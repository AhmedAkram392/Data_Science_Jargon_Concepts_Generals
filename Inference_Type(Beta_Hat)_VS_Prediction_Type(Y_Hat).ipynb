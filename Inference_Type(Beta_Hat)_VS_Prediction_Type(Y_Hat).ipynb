{
  "nbformat": 4,
  "nbformat_minor": 0,
  "metadata": {
    "colab": {
      "provenance": [],
      "collapsed_sections": [],
      "authorship_tag": "ABX9TyOwb0R2bmiicRH0XI3yWoes",
      "include_colab_link": true
    },
    "kernelspec": {
      "name": "python3",
      "display_name": "Python 3"
    },
    "language_info": {
      "name": "python"
    }
  },
  "cells": [
    {
      "cell_type": "markdown",
      "metadata": {
        "id": "view-in-github",
        "colab_type": "text"
      },
      "source": [
        "<a href=\"https://colab.research.google.com/github/AhmedAkram392/Data_Science_Jargon_Concepts_Generals/blob/main/Inference_Type(Beta_Hat)_VS_Prediction_Type(Y_Hat).ipynb\" target=\"_parent\"><img src=\"https://colab.research.google.com/assets/colab-badge.svg\" alt=\"Open In Colab\"/></a>"
      ]
    },
    {
      "cell_type": "markdown",
      "source": [
        "# \"Does low code or AutoML or Auto NLP have no use at all ?\"\n",
        "\n",
        "To answer this, I would like to first define two types of ML algorithms. \n",
        "\n",
        "\n",
        "1.   Inference Type\n",
        "2.   Prediction Type\n",
        "\n",
        "\n",
        "\n",
        "I recently stumbled upon an article by W.D where he uses the words β - hat and Y-hat for Inference and Prediction type respectively.\n",
        "\n",
        "The link to his excellent article is in the comments. So because β -hat and Y-hat are more catchy, I will loan these words from him.\n",
        "\n",
        "**In β-hat type problems**, We care about what variables go into the model. What are the parameter values and How much each of the Independent variables affect the Dependent variables. Here the goal is not just prediction but how that prediction was made.\n",
        "\n",
        "E.g. Loan default : A person would ideally demand to know why his/her loan is being denied . The algorithm needs to have that explanation.\n",
        "\n",
        "**In Y-hat type problems**, One does not care about what variables go into the model. One does not care about the parameter values. All one cares about is whether the prediction is accurate or not.\n",
        "\n",
        "Now lets come to the question of 'Does Low code or AutoML or Auto NLP have no use at all'?\n",
        "\n",
        "Low code, AutoML or AutoNLP solution can be useful in Y-hat type problems. This is because the feedback loop on whether the algorithm is giving the correct output, is quicker. I mean if the algorithm output the label 'Cat' on a Dog image, you would immediately catch it.\n",
        "\n",
        "Similarly in NLP, if you had developed a semantic search algorithm, Upon keying in a search word, if you were to be provided with irrelevant words or searches then you would immediately catch that as well. Ditto with multi label classification tasks.\n",
        "\n",
        "So, it all boils down to speed of feedback.\n",
        "\n",
        "**In Y-hat models**, generally the feedback is quicker. They are faster to judge, on whether the output is correct or not. This is a big safety net.\n"
      ],
      "metadata": {
        "id": "SmvRwiBcZl_8"
      }
    },
    {
      "cell_type": "markdown",
      "source": [
        "# Conclusion\n",
        "\n",
        "So in these cases (Y-Hat) AutoML and AutoNLP could be useful. However for β -hat type problems, low code or AutoML may not be useful."
      ],
      "metadata": {
        "id": "sxhO5X3XaHsR"
      }
    },
    {
      "cell_type": "markdown",
      "source": [
        "# Reference\n",
        "\n",
        "LinkedINN"
      ],
      "metadata": {
        "id": "tLNfS7L9nC4t"
      }
    },
    {
      "cell_type": "code",
      "execution_count": null,
      "metadata": {
        "id": "xJCjPwIpYSdR"
      },
      "outputs": [],
      "source": []
    }
  ]
}